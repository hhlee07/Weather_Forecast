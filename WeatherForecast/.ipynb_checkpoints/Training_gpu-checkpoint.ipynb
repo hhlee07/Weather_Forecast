{
 "cells": [
  {
   "cell_type": "code",
   "execution_count": 1,
   "id": "8d55a14f",
   "metadata": {},
   "outputs": [],
   "source": [
    "import numpy as np\n",
    "import matplotlib.pyplot as plt\n",
    "import pandas as pd\n",
    "import torch\n",
    "import torch.nn as nn\n",
    "from torch.autograd import Variable"
   ]
  },
  {
   "cell_type": "code",
   "execution_count": 2,
   "id": "4490bf65",
   "metadata": {},
   "outputs": [],
   "source": [
    "import os\n",
    "os.environ[\"CUDA_VISIBLE_DEVICES\"]=\"7\"\n",
    "\n",
    "## 바로 다음 timestep에 대한 위험기상을 예측하는 모델 학습"
   ]
  },
  {
   "cell_type": "code",
   "execution_count": 3,
   "id": "7a987903",
   "metadata": {},
   "outputs": [
    {
     "name": "stdout",
     "output_type": "stream",
     "text": [
      "(5501280, 18)\n",
      "['0', '0', '0', '0', '0', '0', '0', '1', '0', '0', '0', '0', '0']\n"
     ]
    }
   ],
   "source": [
    "aws_data = pd.read_csv(\"/raid/workspace/honghee/data_weather/train_x/aws/aws_final_2019.csv\")\n",
    "# aws_data\n",
    "training_x = aws_data.iloc[:,4:].values  # 18(# of features) * 5500000(# of data)\n",
    "training_y = aws_data.iloc[:,3].values\n",
    "\n",
    "print(training_x.shape)\n",
    "print(training_y[0])\n"
   ]
  },
  {
   "cell_type": "code",
   "execution_count": 4,
   "id": "ff4709c6",
   "metadata": {},
   "outputs": [],
   "source": [
    "# training_data\n",
    "from numpy import array\n",
    "import ast\n",
    " \n",
    "# split a multivariate sequence into samples\n",
    "def split_sequences(sequences_x, sequence_y,  n_steps):\n",
    "    X, y = list(), list()\n",
    "    for i in range(len(sequence_y)):\n",
    "        # n_steps = 12 (12시간에 대한 데이터를 sequence로 만들어서 넣음)\n",
    "        end_ix = i + n_steps\n",
    "        # check if we are beyond the dataset\n",
    "        if end_ix > len(sequence_y):\n",
    "            break\n",
    "        # gather input and output parts of the pattern\n",
    "        seq_x = sequences_x[i:end_ix, :]\n",
    "        seq_y = sequence_y[end_ix-1]\n",
    "        # 전처리할때 label이 str이었어서 int로 바꾸어줌\n",
    "        seq_y = ast.literal_eval(seq_y)\n",
    "#         print(seq_y)\n",
    "        seq_y = list(map(int, seq_y))\n",
    "        X.append(seq_x)\n",
    "        y.append(seq_y)\n",
    "    return array(X),array(y)\n"
   ]
  },
  {
   "cell_type": "code",
   "execution_count": 5,
   "id": "2373d87c",
   "metadata": {},
   "outputs": [],
   "source": [
    "# LSTM model 생성\n",
    "\n",
    "class MV_LSTM(torch.nn.Module):\n",
    "    def __init__(self,n_features,seq_length):\n",
    "        super(MV_LSTM, self).__init__()\n",
    "        self.n_features = n_features\n",
    "        self.seq_len = seq_length\n",
    "        self.n_hidden = 20 # number of hidden states\n",
    "        self.n_layers = 1 # number of LSTM layers (stacked)\n",
    "    \n",
    "        self.l_lstm = torch.nn.LSTM(input_size = n_features, \n",
    "                                 hidden_size = self.n_hidden,\n",
    "                                 num_layers = self.n_layers, \n",
    "                                 batch_first = True)\n",
    "        # LSTM output batch_size,seq_len, num_directions * hidden_size)\n",
    "        # when considering batch_first = True\n",
    "#         self.l_linear = torch.nn.Linear(self.n_hidden*self.seq_len, 1)\n",
    "        self.l_linear = torch.nn.Linear(self.n_hidden*self.seq_len, 13)   # number of categories\n",
    "        \n",
    "    \n",
    "    def init_hidden(self, batch_size):\n",
    "        hidden_state = torch.zeros(self.n_layers,batch_size,self.n_hidden).cuda()\n",
    "        cell_state = torch.zeros(self.n_layers,batch_size,self.n_hidden).cuda()\n",
    "        self.hidden = (hidden_state, cell_state)\n",
    "    \n",
    "    \n",
    "    def forward(self, x):        \n",
    "        batch_size, seq_len, _ = x.size()\n",
    "        \n",
    "        lstm_out, self.hidden = self.l_lstm(x,self.hidden)\n",
    "        # lstm_out(with batch_first = True) is \n",
    "        # (batch_size,seq_len,num_directions * hidden_size)\n",
    "        x = lstm_out.contiguous().view(batch_size,-1)\n",
    "        return self.l_linear(x)"
   ]
  },
  {
   "cell_type": "code",
   "execution_count": 6,
   "id": "9f5ed994",
   "metadata": {
    "collapsed": true
   },
   "outputs": [
    {
     "name": "stdout",
     "output_type": "stream",
     "text": [
      "(5501269, 12, 18) (5501269, 13)\n"
     ]
    }
   ],
   "source": [
    "n_features = 18 # number of parallel inputs, feature 개수\n",
    "n_timesteps = 12 # number of timesteps\n",
    "\n",
    "# convert dataset into input/output\n",
    "X, y = split_sequences(training_x, training_y, n_timesteps)\n",
    "print(X.shape, y.shape)\n",
    "\n",
    "# create model\n",
    "mv_net = MV_LSTM(n_features,n_timesteps)\n",
    "criterion = torch.nn.MSELoss() \n",
    "optimizer = torch.optim.Adam(mv_net.parameters(), lr=1e-2)\n",
    "\n",
    "batch_size = 16"
   ]
  },
  {
   "cell_type": "code",
   "execution_count": null,
   "id": "69c4b8e7",
   "metadata": {},
   "outputs": [],
   "source": [
    "device = torch.device(\"cuda:0\")\n",
    "mv_net.to(device)\n",
    "mv_net.train()\n",
    "for b in range(0,len(X),batch_size):\n",
    "    inpt = X[b:b+batch_size,:,:]\n",
    "    target = y[b:b+batch_size]    \n",
    "\n",
    "    x_batch = torch.tensor(inpt,dtype=torch.float32).cuda()    \n",
    "    y_batch = torch.tensor(target,dtype=torch.float32).cuda()  \n",
    "\n",
    "    mv_net.init_hidden(x_batch.size(0))\n",
    "#    lstm_out, _ = mv_net.l_lstm(x_batch,nnet.hidden)    \n",
    "#    lstm_out.contiguous().view(x_batch.size(0),-1)\n",
    "    output = mv_net(x_batch) \n",
    "#         output = torch.reshape(output, (16, 13))\n",
    "#         loss = criterion(output.view(-1), y_batch)  \n",
    "    loss = criterion(output, y_batch)  \n",
    "\n",
    "    loss.backward()\n",
    "    optimizer.step()        \n",
    "    optimizer.zero_grad() \n",
    "    print('step : ' , b , 'loss : ' , loss.item())\n",
    "save_path = \"/raid/workspace/honghee/data_weather/train_x/aws/best_model.pt\"\n",
    "torch.save(mv_net.state_dict(), save_path)"
   ]
  }
 ],
 "metadata": {
  "kernelspec": {
   "display_name": "Python 3 (ipykernel)",
   "language": "python",
   "name": "python3"
  },
  "language_info": {
   "codemirror_mode": {
    "name": "ipython",
    "version": 3
   },
   "file_extension": ".py",
   "mimetype": "text/x-python",
   "name": "python",
   "nbconvert_exporter": "python",
   "pygments_lexer": "ipython3",
   "version": "3.7.9"
  }
 },
 "nbformat": 4,
 "nbformat_minor": 5
}
