{
 "cells": [
  {
   "cell_type": "code",
   "execution_count": 28,
   "id": "4cb755fb",
   "metadata": {},
   "outputs": [
    {
     "name": "stdout",
     "output_type": "stream",
     "text": [
      "[0, 2, 3, 0]\n"
     ]
    }
   ],
   "source": [
    "import numpy as np\n",
    "import torch\n",
    "from numpy import array\n",
    "from sklearn.metrics import f1_score\n",
    "from sklearn import metrics\n",
    "x = [array([0,0,0,1]), array([0,0,0,1]), array([0,0,0,1])]\n",
    "y = [[0,1,0,0], [1,0,1,1], [0,0,1,0]]\n",
    "t = [1,2,3,0]\n",
    "print([0 if (x <= 1 ) else x for x in t])\n",
    "# k = [[0 if (x < 1 or x > 10) else x for x in y] for y in y]\n",
    "# print(k)"
   ]
  },
  {
   "cell_type": "code",
   "execution_count": 29,
   "id": "e0d04936",
   "metadata": {},
   "outputs": [
    {
     "name": "stdout",
     "output_type": "stream",
     "text": [
      "0.5\n"
     ]
    }
   ],
   "source": [
    "def accuracy_function(real, pred):    \n",
    "\n",
    "    score = f1_score(real, pred, average='weighted')\n",
    "    return score\n",
    "\n",
    "print(accuracy_function(x,y))"
   ]
  },
  {
   "cell_type": "code",
   "execution_count": null,
   "id": "36a87a1a",
   "metadata": {},
   "outputs": [],
   "source": []
  }
 ],
 "metadata": {
  "kernelspec": {
   "display_name": "Python 3 (ipykernel)",
   "language": "python",
   "name": "python3"
  },
  "language_info": {
   "codemirror_mode": {
    "name": "ipython",
    "version": 3
   },
   "file_extension": ".py",
   "mimetype": "text/x-python",
   "name": "python",
   "nbconvert_exporter": "python",
   "pygments_lexer": "ipython3",
   "version": "3.7.9"
  }
 },
 "nbformat": 4,
 "nbformat_minor": 5
}
